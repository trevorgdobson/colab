{
 "cells": [
  {
   "cell_type": "code",
   "execution_count": 6,
   "metadata": {},
   "outputs": [
    {
     "name": "stdout",
     "output_type": "stream",
     "text": [
      "Requirement already satisfied: keras in /usr/local/envs/py2env/lib/python2.7/site-packages (2.2.4)\n",
      "Requirement already satisfied: keras-preprocessing>=1.0.5 in /usr/local/envs/py2env/lib/python2.7/site-packages (from keras) (1.0.5)\n",
      "Requirement already satisfied: pyyaml in /usr/local/envs/py2env/lib/python2.7/site-packages (from keras) (3.13)\n",
      "Requirement already satisfied: numpy>=1.9.1 in /usr/local/envs/py2env/lib/python2.7/site-packages (from keras) (1.14.0)\n",
      "Requirement already satisfied: six>=1.9.0 in /usr/local/envs/py2env/lib/python2.7/site-packages (from keras) (1.10.0)\n",
      "Requirement already satisfied: keras-applications>=1.0.6 in /usr/local/envs/py2env/lib/python2.7/site-packages (from keras) (1.0.6)\n",
      "Requirement already satisfied: h5py in /usr/local/envs/py2env/lib/python2.7/site-packages (from keras) (2.7.1)\n",
      "Requirement already satisfied: scipy>=0.14 in /usr/local/envs/py2env/lib/python2.7/site-packages (from keras) (1.0.0)\n",
      "Requirement already satisfied: tensorflow in /usr/local/envs/py2env/lib/python2.7/site-packages (1.8.0)\n",
      "Requirement already satisfied: protobuf>=3.4.0 in /usr/local/envs/py2env/lib/python2.7/site-packages (from tensorflow) (3.6.1)\n",
      "Requirement already satisfied: astor>=0.6.0 in /usr/local/envs/py2env/lib/python2.7/site-packages (from tensorflow) (0.7.1)\n",
      "Requirement already satisfied: backports.weakref>=1.0rc1 in /usr/local/envs/py2env/lib/python2.7/site-packages (from tensorflow) (1.0.post1)\n",
      "Requirement already satisfied: wheel in /usr/local/envs/py2env/lib/python2.7/site-packages (from tensorflow) (0.32.3)\n",
      "Requirement already satisfied: mock>=2.0.0 in /usr/local/envs/py2env/lib/python2.7/site-packages (from tensorflow) (2.0.0)\n",
      "Requirement already satisfied: enum34>=1.1.6 in /usr/local/envs/py2env/lib/python2.7/site-packages (from tensorflow) (1.1.6)\n",
      "Requirement already satisfied: gast>=0.2.0 in /usr/local/envs/py2env/lib/python2.7/site-packages (from tensorflow) (0.2.0)\n",
      "Requirement already satisfied: termcolor>=1.1.0 in /usr/local/envs/py2env/lib/python2.7/site-packages (from tensorflow) (1.1.0)\n",
      "Requirement already satisfied: absl-py>=0.1.6 in /usr/local/envs/py2env/lib/python2.7/site-packages (from tensorflow) (0.6.1)\n",
      "Requirement already satisfied: six>=1.10.0 in /usr/local/envs/py2env/lib/python2.7/site-packages (from tensorflow) (1.10.0)\n",
      "Requirement already satisfied: tensorboard<1.9.0,>=1.8.0 in /usr/local/envs/py2env/lib/python2.7/site-packages (from tensorflow) (1.8.0)\n",
      "Requirement already satisfied: grpcio>=1.8.6 in /usr/local/envs/py2env/lib/python2.7/site-packages (from tensorflow) (1.16.1)\n",
      "Requirement already satisfied: numpy>=1.13.3 in /usr/local/envs/py2env/lib/python2.7/site-packages (from tensorflow) (1.14.0)\n",
      "Requirement already satisfied: setuptools in /usr/local/envs/py2env/lib/python2.7/site-packages (from protobuf>=3.4.0->tensorflow) (40.6.2)\n",
      "Requirement already satisfied: funcsigs>=1 in /usr/local/envs/py2env/lib/python2.7/site-packages (from mock>=2.0.0->tensorflow) (1.0.0)\n",
      "Requirement already satisfied: pbr>=0.11 in /usr/local/envs/py2env/lib/python2.7/site-packages (from mock>=2.0.0->tensorflow) (5.1.1)\n",
      "Collecting bleach==1.5.0 (from tensorboard<1.9.0,>=1.8.0->tensorflow)\n",
      "  Downloading https://files.pythonhosted.org/packages/33/70/86c5fec937ea4964184d4d6c4f0b9551564f821e1c3575907639036d9b90/bleach-1.5.0-py2.py3-none-any.whl\n",
      "Requirement already satisfied: futures>=3.1.1; python_version < \"3\" in /usr/local/envs/py2env/lib/python2.7/site-packages (from tensorboard<1.9.0,>=1.8.0->tensorflow) (3.2.0)\n",
      "Requirement already satisfied: markdown>=2.6.8 in /usr/local/envs/py2env/lib/python2.7/site-packages (from tensorboard<1.9.0,>=1.8.0->tensorflow) (2.6.11)\n",
      "Requirement already satisfied: werkzeug>=0.11.10 in /usr/local/envs/py2env/lib/python2.7/site-packages (from tensorboard<1.9.0,>=1.8.0->tensorflow) (0.14.1)\n",
      "Collecting html5lib==0.9999999 (from tensorboard<1.9.0,>=1.8.0->tensorflow)\n",
      "\u001b[?25l  Downloading https://files.pythonhosted.org/packages/ae/ae/bcb60402c60932b32dfaf19bb53870b29eda2cd17551ba5639219fb5ebf9/html5lib-0.9999999.tar.gz (889kB)\n",
      "\u001b[K    100% |████████████████████████████████| 890kB 11.5MB/s ta 0:00:01\n",
      "\u001b[?25hRequirement already satisfied: ordereddict in /usr/local/envs/py2env/lib/python2.7/site-packages (from funcsigs>=1->mock>=2.0.0->tensorflow) (1.1)\n",
      "Building wheels for collected packages: html5lib\n",
      "  Running setup.py bdist_wheel for html5lib ... \u001b[?25ldone\n",
      "\u001b[?25h  Stored in directory: /content/.cache/pip/wheels/50/ae/f9/d2b189788efcf61d1ee0e36045476735c838898eef1cad6e29\n",
      "Successfully built html5lib\n",
      "\u001b[31mapache-airflow 1.9.0 has requirement bleach==2.1.2, but you'll have bleach 1.5.0 which is incompatible.\u001b[0m\n",
      "Installing collected packages: html5lib, bleach\n",
      "  Found existing installation: html5lib 1.0.1\n",
      "    Uninstalling html5lib-1.0.1:\n",
      "      Successfully uninstalled html5lib-1.0.1\n",
      "  Found existing installation: bleach 2.1.2\n",
      "    Uninstalling bleach-2.1.2:\n",
      "      Successfully uninstalled bleach-2.1.2\n",
      "Successfully installed bleach-1.5.0 html5lib-0.9999999\n"
     ]
    }
   ],
   "source": [
    "# Install a pip package in the current Jupyter kernel\n",
    "import sys\n",
    "!{sys.executable} -m pip install keras\n",
    "!{sys.executable} -m pip install tensorflow"
   ]
  },
  {
   "cell_type": "code",
   "execution_count": 7,
   "metadata": {
    "colab": {
     "base_uri": "https://8080-dot-5383472-dot-devshell.appspot.com/",
     "height": 119
    },
    "colab_type": "code",
    "id": "oTbwH8iJqEO4",
    "outputId": "1518009e-1587-46b2-cde3-6ec3c5aaaa30"
   },
   "outputs": [
    {
     "name": "stdout",
     "output_type": "stream",
     "text": [
      "(<type 'numpy.ndarray'>, (150, 4))\n",
      "[[1. 0. 0.]\n",
      " [1. 0. 0.]\n",
      " [1. 0. 0.]\n",
      " [1. 0. 0.]\n",
      " [1. 0. 0.]]\n"
     ]
    }
   ],
   "source": [
    "import keras\n",
    "from keras.models import Sequential\n",
    "from keras.layers import Dense\n",
    "import numpy as np\n",
    "\n",
    "# IRIS Dataset\n",
    "# https://warwick.ac.uk/fac/sci/moac/people/students/peter_cock/r/iris_lm/\n",
    "import seaborn as sns\n",
    "iris = sns.load_dataset('iris')\n",
    "iris.head()\n",
    "\n",
    "# Create X numpy array\n",
    "X = np.array(iris.drop(['species'], axis=1))\n",
    "print(type(X), X.shape)\n",
    "\n",
    "Y = iris['species']\n",
    "# print Y.unique()\n",
    "# encode class values as integers, then as binary columns\n",
    "from sklearn.preprocessing import LabelEncoder\n",
    "from keras.utils import to_categorical\n",
    "encoder = LabelEncoder()\n",
    "encoder.fit(Y)\n",
    "Y = to_categorical(encoder.transform(Y))\n",
    "print Y[:5]"
   ]
  },
  {
   "cell_type": "code",
   "execution_count": 9,
   "metadata": {
    "colab": {},
    "colab_type": "code",
    "id": "rqy80AMNs24o"
   },
   "outputs": [],
   "source": [
    "model = Sequential()\n",
    "# Version 0 - 4 nodes 1 layer\n",
    "# model.add(Dense(4, input_shape=(4,), activation='relu'))\n",
    "# Version 1 - 20 nodes 1 layer\n",
    "# model.add(Dense(20, input_shape=(4,), activation='relu'))\n",
    "# Version 2 - 100 nodes x 2 layers\n",
    "model.add(Dense(100, input_shape=(4,), activation='relu'))\n",
    "model.add(Dense(100, activation='relu'))\n",
    "\n",
    "# Output layer\n",
    "model.add(Dense(3, activation='softmax'))\n",
    "\n",
    "model.compile(loss='binary_crossentropy',\n",
    "              optimizer='adam', metrics=['accuracy'])\n",
    "\n",
    "# NOTES:\n",
    "# For this dataset, there is some randomness in the accuracy (98.6%\n",
    "# or 99.1%), but increasing the node count or layer count doesn't \n",
    "# seem to improve results.\n"
   ]
  },
  {
   "cell_type": "code",
   "execution_count": 102,
   "metadata": {
    "colab": {
     "base_uri": "https://8080-dot-5383472-dot-devshell.appspot.com/",
     "height": 238
    },
    "colab_type": "code",
    "id": "R76uPrQetmTq",
    "outputId": "196ed27f-74b6-46a6-b395-f032a7ed61b1"
   },
   "outputs": [
    {
     "name": "stdout",
     "output_type": "stream",
     "text": [
      "150/150 [==============================] - 0s 74us/step\n",
      "\n",
      "acc: 99.11%\n",
      "[[9.9999988e-01 1.7379297e-07 5.0070484e-13]\n",
      " [9.9999905e-01 9.5587870e-07 6.5247547e-12]\n",
      " [9.9999940e-01 6.5082673e-07 3.9437741e-12]\n",
      " [9.9999690e-01 3.0562305e-06 2.5115481e-11]\n",
      " [9.9999976e-01 1.9795188e-07 5.4162848e-13]\n",
      " [9.9999940e-01 5.4011753e-07 9.9907832e-13]\n",
      " [9.9999809e-01 1.8985478e-06 1.1423846e-11]\n",
      " [9.9999952e-01 4.8173018e-07 1.8134295e-12]\n",
      " [9.9999499e-01 5.0309545e-06 6.3073262e-11]\n",
      " [9.9999928e-01 6.6503031e-07 3.5863083e-12]]\n"
     ]
    }
   ],
   "source": [
    "# Fit model\n",
    "model.fit(X, Y, epochs=150, batch_size=10,  verbose=0)\n",
    "# evaluate the model\n",
    "scores = model.evaluate(X, encoded_Y)\n",
    "print(\"\\n%s: %.2f%%\" % (model.metrics_names[1], scores[1]*100))\n",
    "\n",
    "# print some example predictions\n",
    "print model.predict(X)[:10]"
   ]
  },
  {
   "cell_type": "code",
   "execution_count": 0,
   "metadata": {
    "colab": {},
    "colab_type": "code",
    "id": "izemi6FExU5u"
   },
   "outputs": [],
   "source": [
    "## Simple graph of structure of network\n",
    "\n",
    "# from IPython.display import SVG\n",
    "# from keras.utils.vis_utils import model_to_dot\n",
    "\n",
    "# SVG(model_to_dot(model).create(prog='dot', format='svg'))"
   ]
  },
  {
   "cell_type": "code",
   "execution_count": 0,
   "metadata": {
    "colab": {},
    "colab_type": "code",
    "id": "5zAnmPq3ywaw"
   },
   "outputs": [],
   "source": [
    "### Plot Accuracy Over Training Time by Epoch\n",
    "\n",
    "# import matplotlib.pyplot as plt\n",
    "\n",
    "# history = model.fit(X, Y, validation_split=0.25, epochs=50, batch_size=16, verbose=1)\n",
    "\n",
    "# # Plot training & validation accuracy values\n",
    "# plt.plot(history.history['acc'])\n",
    "# plt.plot(history.history['val_acc'])\n",
    "# plt.title('Model accuracy')\n",
    "# plt.ylabel('Accuracy')\n",
    "# plt.xlabel('Epoch')\n",
    "# plt.legend(['Train', 'Test'], loc='upper left')\n",
    "# plt.show()\n",
    "\n",
    "# # Plot training & validation loss values\n",
    "# plt.plot(history.history['loss'])\n",
    "# plt.plot(history.history['val_loss'])\n",
    "# plt.title('Model loss')\n",
    "# plt.ylabel('Loss')\n",
    "# plt.xlabel('Epoch')\n",
    "# plt.legend(['Train', 'Test'], loc='upper left')\n",
    "# plt.show()"
   ]
  }
 ],
 "metadata": {
  "colab": {
   "collapsed_sections": [],
   "include_colab_link": true,
   "name": "Colab Test.ipynb",
   "provenance": [],
   "version": "0.3.2"
  },
  "kernelspec": {
   "display_name": "Python 2",
   "language": "python",
   "name": "python2"
  }
 },
 "nbformat": 4,
 "nbformat_minor": 1
}
