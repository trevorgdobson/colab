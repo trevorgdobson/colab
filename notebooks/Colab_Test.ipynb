{
 "cells": [
  {
   "cell_type": "markdown",
   "metadata": {
    "id": "view-in-github",
    "colab_type": "text"
   },
   "source": [
    "<a href=\"https://colab.research.google.com/github/trevorgdobson/colab/blob/master/Colab_Test.ipynb\" target=\"_parent\"><img src=\"https://colab.research.google.com/assets/colab-badge.svg\" alt=\"Open In Colab\"/></a>"
   ]
  },
  {
   "cell_type": "code",
   "execution_count": null,
   "metadata": {
    "id": "oTbwH8iJqEO4",
    "colab_type": "code",
    "outputId": "1518009e-1587-46b2-cde3-6ec3c5aaaa30",
    "colab": {
     "base_uri": "https://localhost:8080/",
     "height": 119.0
    }
   },
   "outputs": [
    {
     "name": "stdout",
     "output_type": "stream",
     "text": [
      "(<type 'numpy.ndarray'>, (150, 4))\n",
      "[[1. 0. 0.]\n",
      " [1. 0. 0.]\n",
      " [1. 0. 0.]\n",
      " [1. 0. 0.]\n",
      " [1. 0. 0.]]\n"
     ]
    }
   ],
   "source": [
    "import keras\n",
    "from keras.models import Sequential\n",
    "from keras.layers import Dense\n",
    "import numpy as np\n",
    "\n",
    "# IRIS Dataset\n",
    "# https://warwick.ac.uk/fac/sci/moac/people/students/peter_cock/r/iris_lm/\n",
    "import seaborn as sns\n",
    "iris = sns.load_dataset('iris')\n",
    "iris.head()\n",
    "\n",
    "# Create X numpy array\n",
    "X = np.array(iris.drop(['species'], axis=1))\n",
    "print(type(X), X.shape)\n",
    "\n",
    "Y = iris['species']\n",
    "# print Y.unique()\n",
    "# encode class values as integers, then as binary columns\n",
    "from sklearn.preprocessing import LabelEncoder\n",
    "from keras.utils import to_categorical\n",
    "encoder = LabelEncoder()\n",
    "encoder.fit(Y)\n",
    "Y = to_categorical(encoder.transform(Y))\n",
    "print encoded_Y[:5]"
   ]
  },
  {
   "cell_type": "code",
   "execution_count": 0,
   "metadata": {
    "id": "rqy80AMNs24o",
    "colab_type": "code",
    "colab": {}
   },
   "outputs": [],
   "source": [
    "model = Sequential()\n",
    "# Version 0 - 4 nodes 1 layer\n",
    "# model.add(Dense(4, input_shape=(4,), activation='relu'))\n",
    "# Version 1 - 20 nodes 1 layer\n",
    "# model.add(Dense(20, input_shape=(4,), activation='relu'))\n",
    "# Version 2 - 100 nodes x 2 layers\n",
    "model.add(Dense(100, input_shape=(4,), activation='relu'))\n",
    "model.add(Dense(100, activation='relu'))\n",
    "\n",
    "# Output layer\n",
    "model.add(Dense(3, activation='softmax'))\n",
    "\n",
    "model.compile(loss='binary_crossentropy',\n",
    "              optimizer='adam', metrics=['accuracy'])\n",
    "\n",
    "# NOTES:\n",
    "# For this dataset, there is some randomness in the accuracy (98.6%\n",
    "# or 99.1%), but increasing the node count or layer count doesn't \n",
    "# seem to improve results.\n"
   ]
  },
  {
   "cell_type": "code",
   "execution_count": 102,
   "metadata": {
    "id": "R76uPrQetmTq",
    "colab_type": "code",
    "colab": {
     "base_uri": "https://localhost:8080/",
     "height": 238.0
    },
    "outputId": "196ed27f-74b6-46a6-b395-f032a7ed61b1"
   },
   "outputs": [
    {
     "name": "stdout",
     "output_type": "stream",
     "text": [
      "150/150 [==============================] - 0s 74us/step\n",
      "\n",
      "acc: 99.11%\n",
      "[[9.9999988e-01 1.7379297e-07 5.0070484e-13]\n",
      " [9.9999905e-01 9.5587870e-07 6.5247547e-12]\n",
      " [9.9999940e-01 6.5082673e-07 3.9437741e-12]\n",
      " [9.9999690e-01 3.0562305e-06 2.5115481e-11]\n",
      " [9.9999976e-01 1.9795188e-07 5.4162848e-13]\n",
      " [9.9999940e-01 5.4011753e-07 9.9907832e-13]\n",
      " [9.9999809e-01 1.8985478e-06 1.1423846e-11]\n",
      " [9.9999952e-01 4.8173018e-07 1.8134295e-12]\n",
      " [9.9999499e-01 5.0309545e-06 6.3073262e-11]\n",
      " [9.9999928e-01 6.6503031e-07 3.5863083e-12]]\n"
     ]
    }
   ],
   "source": [
    "# Fit model\n",
    "model.fit(X, Y, epochs=150, batch_size=10,  verbose=0)\n",
    "# evaluate the model\n",
    "scores = model.evaluate(X, encoded_Y)\n",
    "print(\"\\n%s: %.2f%%\" % (model.metrics_names[1], scores[1]*100))\n",
    "\n",
    "# print some example predictions\n",
    "print model.predict(X)[:10]"
   ]
  },
  {
   "cell_type": "code",
   "execution_count": 0,
   "metadata": {
    "id": "izemi6FExU5u",
    "colab_type": "code",
    "colab": {}
   },
   "outputs": [],
   "source": [
    "## Simple graph of structure of network\n",
    "\n",
    "# from IPython.display import SVG\n",
    "# from keras.utils.vis_utils import model_to_dot\n",
    "\n",
    "# SVG(model_to_dot(model).create(prog='dot', format='svg'))"
   ]
  },
  {
   "cell_type": "code",
   "execution_count": 0,
   "metadata": {
    "id": "5zAnmPq3ywaw",
    "colab_type": "code",
    "colab": {}
   },
   "outputs": [],
   "source": [
    "### Plot Accuracy Over Training Time by Epoch\n",
    "\n",
    "# import matplotlib.pyplot as plt\n",
    "\n",
    "# history = model.fit(X, Y, validation_split=0.25, epochs=50, batch_size=16, verbose=1)\n",
    "\n",
    "# # Plot training & validation accuracy values\n",
    "# plt.plot(history.history['acc'])\n",
    "# plt.plot(history.history['val_acc'])\n",
    "# plt.title('Model accuracy')\n",
    "# plt.ylabel('Accuracy')\n",
    "# plt.xlabel('Epoch')\n",
    "# plt.legend(['Train', 'Test'], loc='upper left')\n",
    "# plt.show()\n",
    "\n",
    "# # Plot training & validation loss values\n",
    "# plt.plot(history.history['loss'])\n",
    "# plt.plot(history.history['val_loss'])\n",
    "# plt.title('Model loss')\n",
    "# plt.ylabel('Loss')\n",
    "# plt.xlabel('Epoch')\n",
    "# plt.legend(['Train', 'Test'], loc='upper left')\n",
    "# plt.show()"
   ]
  }
 ],
 "metadata": {
  "colab": {
   "name": "Colab Test.ipynb",
   "version": "0.3.2",
   "provenance": [],
   "collapsed_sections": [],
   "include_colab_link": true
  },
  "kernelspec": {
   "name": "python2",
   "display_name": "Python 2"
  }
 },
 "nbformat": 4,
 "nbformat_minor": 0
}
